{
 "cells": [
  {
   "cell_type": "code",
   "execution_count": 1,
   "metadata": {
    "is_executing": true
   },
   "outputs": [],
   "source": [
    "import pandas as pd"
   ]
  },
  {
   "cell_type": "markdown",
   "metadata": {},
   "source": [
    "# AVG ACR"
   ]
  },
  {
   "cell_type": "code",
   "execution_count": 2,
   "metadata": {},
   "outputs": [],
   "source": [
    "import pandas as pd\n",
    "import os\n",
    "\n",
    "def mean_of_average_differences(directory_path):\n",
    "    averages = []\n",
    "\n",
    "    for filename in os.listdir(directory_path):\n",
    "        if filename.endswith(\".csv\"):\n",
    "            file_path = os.path.join(directory_path, filename)\n",
    "            try:\n",
    "                df = pd.read_csv(file_path)\n",
    "                if \"avg\" in df.columns:\n",
    "                    differences = df['avg'].diff().dropna()\n",
    "                    average_difference = differences.mean()\n",
    "                    averages.append(average_difference)\n",
    "                else:\n",
    "                    print(f\"The file {filename} does not have an 'avg' column.\")\n",
    "            except Exception as e:\n",
    "                print(f\"An error occurred while processing the file {filename}: {e}\")\n",
    "\n",
    "    return sum(averages) / len(averages) if averages else None\n"
   ]
  },
  {
   "cell_type": "code",
   "execution_count": 22,
   "metadata": {},
   "outputs": [
    {
     "data": {
      "text/plain": [
       "(0.02006928661831798, 0.015623638918429463)"
      ]
     },
     "execution_count": 22,
     "metadata": {},
     "output_type": "execute_result"
    }
   ],
   "source": [
    "mean_of_average_differences(\"logs/optimization_ds1_exp1\"), mean_of_average_differences(\"logs/optimization_ds2_exp1\")"
   ]
  },
  {
   "cell_type": "code",
   "execution_count": 23,
   "metadata": {},
   "outputs": [
    {
     "data": {
      "text/plain": [
       "(0.02047496418357711, 0.01646373015101492)"
      ]
     },
     "execution_count": 23,
     "metadata": {},
     "output_type": "execute_result"
    }
   ],
   "source": [
    "mean_of_average_differences(\"logs/optimization_ds1_exp2\"), mean_of_average_differences(\"logs/optimization_ds2_exp2\")"
   ]
  },
  {
   "cell_type": "code",
   "execution_count": 24,
   "metadata": {},
   "outputs": [
    {
     "data": {
      "text/plain": [
       "(0.019795635197621342, 0.015336136848068218)"
      ]
     },
     "execution_count": 24,
     "metadata": {},
     "output_type": "execute_result"
    }
   ],
   "source": [
    "mean_of_average_differences(\"logs/optimization_ds1_exp3\"), mean_of_average_differences(\"logs/optimization_ds2_exp3\")"
   ]
  },
  {
   "cell_type": "markdown",
   "metadata": {},
   "source": [
    "# Avg max fitness"
   ]
  },
  {
   "cell_type": "code",
   "execution_count": 6,
   "metadata": {},
   "outputs": [],
   "source": [
    "import pandas as pd\n",
    "import os\n",
    "\n",
    "def average_of_max_values(directory_path):\n",
    "    max_values = []\n",
    "\n",
    "    for filename in os.listdir(directory_path):\n",
    "        if filename.endswith(\".csv\"):\n",
    "            file_path = os.path.join(directory_path, filename)\n",
    "            try:\n",
    "                df = pd.read_csv(file_path)\n",
    "                if \"max\" in df.columns:\n",
    "                    max_value = df['max'].max()\n",
    "                    max_values.append(max_value)\n",
    "                else:\n",
    "                    print(f\"The file {filename} does not have a 'max' column.\")\n",
    "            except Exception as e:\n",
    "                print(f\"An error occurred while processing the file {filename}: {e}\")\n",
    "\n",
    "    return sum(max_values) / len(max_values) if max_values else None\n"
   ]
  },
  {
   "cell_type": "code",
   "execution_count": 25,
   "metadata": {},
   "outputs": [
    {
     "data": {
      "text/plain": [
       "(1.0, 0.7135458908670739)"
      ]
     },
     "execution_count": 25,
     "metadata": {},
     "output_type": "execute_result"
    }
   ],
   "source": [
    "average_of_max_values(\"logs/optimization_ds1_exp1\"), average_of_max_values(\"logs/optimization_ds2_exp1\")"
   ]
  },
  {
   "cell_type": "code",
   "execution_count": 26,
   "metadata": {},
   "outputs": [
    {
     "data": {
      "text/plain": [
       "(1.0, 0.7139229534379127)"
      ]
     },
     "execution_count": 26,
     "metadata": {},
     "output_type": "execute_result"
    }
   ],
   "source": [
    "average_of_max_values(\"logs/optimization_ds1_exp2\"), average_of_max_values(\"logs/optimization_ds2_exp2\")"
   ]
  },
  {
   "cell_type": "code",
   "execution_count": 27,
   "metadata": {},
   "outputs": [
    {
     "data": {
      "text/plain": [
       "(1.0, 0.7445045543514334)"
      ]
     },
     "execution_count": 27,
     "metadata": {},
     "output_type": "execute_result"
    }
   ],
   "source": [
    "average_of_max_values(\"logs/optimization_ds1_exp3\"), average_of_max_values(\"logs/optimization_ds2_exp3\")"
   ]
  },
  {
   "cell_type": "markdown",
   "metadata": {},
   "source": [
    "# AVG AFL"
   ]
  },
  {
   "cell_type": "code",
   "execution_count": 10,
   "metadata": {},
   "outputs": [],
   "source": [
    "import pandas as pd\n",
    "import os\n",
    "\n",
    "def average_of_last_avg_values(directory_path):\n",
    "    last_avg_values = []\n",
    "\n",
    "    for filename in os.listdir(directory_path):\n",
    "        if filename.endswith(\".csv\"):\n",
    "            file_path = os.path.join(directory_path, filename)\n",
    "            try:\n",
    "                df = pd.read_csv(file_path)\n",
    "                if \"avg\" in df.columns:\n",
    "                    last_avg_value = df['avg'].iloc[-1]\n",
    "                    last_avg_values.append(last_avg_value)\n",
    "                else:\n",
    "                    print(f\"The file {filename} does not have an 'avg' column.\")\n",
    "            except Exception as e:\n",
    "                print(f\"An error occurred while processing the file {filename}: {e}\")\n",
    "\n",
    "    return sum(last_avg_values) / len(last_avg_values) if last_avg_values else None\n"
   ]
  },
  {
   "cell_type": "code",
   "execution_count": 28,
   "metadata": {},
   "outputs": [
    {
     "data": {
      "text/plain": [
       "(0.9719866998872405, 0.6787571391534282)"
      ]
     },
     "execution_count": 28,
     "metadata": {},
     "output_type": "execute_result"
    }
   ],
   "source": [
    "average_of_last_avg_values(\"logs/optimization_ds1_exp1\"), average_of_last_avg_values(\"logs/optimization_ds2_exp1\")"
   ]
  },
  {
   "cell_type": "code",
   "execution_count": 29,
   "metadata": {},
   "outputs": [
    {
     "data": {
      "text/plain": [
       "(0.9823192922006194, 0.7016332798049955)"
      ]
     },
     "execution_count": 29,
     "metadata": {},
     "output_type": "execute_result"
    }
   ],
   "source": [
    "average_of_last_avg_values(\"logs/optimization_ds1_exp2\"), average_of_last_avg_values(\"logs/optimization_ds2_exp2\")"
   ]
  },
  {
   "cell_type": "code",
   "execution_count": 32,
   "metadata": {},
   "outputs": [
    {
     "data": {
      "text/plain": [
       "(0.9563668769347456, 0.6701714092842539)"
      ]
     },
     "execution_count": 32,
     "metadata": {},
     "output_type": "execute_result"
    }
   ],
   "source": [
    "average_of_last_avg_values(\"logs/optimization_ds1_exp3\"), average_of_last_avg_values(\"logs/optimization_ds2_exp3\")"
   ]
  },
  {
   "cell_type": "markdown",
   "metadata": {},
   "source": [
    "# AVG GTC"
   ]
  },
  {
   "cell_type": "code",
   "execution_count": 55,
   "metadata": {},
   "outputs": [],
   "source": [
    "import pandas as pd\n",
    "import os\n",
    "\n",
    "def average_of_gen_when_max_is_one(directory_path):\n",
    "    gen_values = []\n",
    "\n",
    "    for filename in os.listdir(directory_path):\n",
    "        if filename.endswith(\".csv\"):\n",
    "            file_path = os.path.join(directory_path, filename)\n",
    "            try:\n",
    "                df = pd.read_csv(file_path)\n",
    "                if \"max\" in df.columns and \"gen\" in df.columns:\n",
    "                    if len(df[df['max'] == 1])>0:\n",
    "                        first_max_one_row = df[df['max'] == 1].iloc[0]\n",
    "                        gen_value = first_max_one_row['gen']\n",
    "                    else:\n",
    "                        gen_value = -1 \n",
    "                    gen_values.append(gen_value)\n",
    "                else:\n",
    "                    print(f\"The file {filename} does not have 'max' and/or 'gen' columns.\")\n",
    "            except Exception as e:\n",
    "                print(f\"An error occurred while processing the file {filename}: {e}\")\n",
    "\n",
    "    return sum(gen_values) / len(gen_values) if gen_values else None\n"
   ]
  },
  {
   "cell_type": "code",
   "execution_count": 56,
   "metadata": {},
   "outputs": [
    {
     "data": {
      "text/plain": [
       "(2.8, -1.0)"
      ]
     },
     "execution_count": 56,
     "metadata": {},
     "output_type": "execute_result"
    }
   ],
   "source": [
    "average_of_gen_when_max_is_one(\"logs/optimization_ds1_exp1\"), average_of_gen_when_max_is_one(\"logs/optimization_ds2_exp1\")"
   ]
  },
  {
   "cell_type": "code",
   "execution_count": 57,
   "metadata": {},
   "outputs": [
    {
     "data": {
      "text/plain": [
       "(2.4, -1.0)"
      ]
     },
     "execution_count": 57,
     "metadata": {},
     "output_type": "execute_result"
    }
   ],
   "source": [
    "average_of_gen_when_max_is_one(\"logs/optimization_ds1_exp2\"), average_of_gen_when_max_is_one(\"logs/optimization_ds2_exp2\")\n"
   ]
  },
  {
   "cell_type": "code",
   "execution_count": 58,
   "metadata": {},
   "outputs": [
    {
     "data": {
      "text/plain": [
       "(3.0, -1.0)"
      ]
     },
     "execution_count": 58,
     "metadata": {},
     "output_type": "execute_result"
    }
   ],
   "source": [
    "average_of_gen_when_max_is_one(\"logs/optimization_ds1_exp3\"), average_of_gen_when_max_is_one(\"logs/optimization_ds2_exp3\")\n",
    "\n"
   ]
  },
  {
   "cell_type": "code",
   "execution_count": 59,
   "metadata": {},
   "outputs": [],
   "source": [
    "import pandas as pd\n",
    "import os\n",
    "\n",
    "def average_of_last_time_values(directory_path):\n",
    "    last_time_values = []\n",
    "\n",
    "    for filename in os.listdir(directory_path):\n",
    "        if filename.endswith(\".csv\"):\n",
    "            file_path = os.path.join(directory_path, filename)\n",
    "            try:\n",
    "                df = pd.read_csv(file_path)\n",
    "                if \"time\" in df.columns:\n",
    "                    last_time_value = df['time'].iloc[-1]\n",
    "                    last_time_values.append(last_time_value)\n",
    "                else:\n",
    "                    print(f\"The file {filename} does not have a 'time' column.\")\n",
    "            except Exception as e:\n",
    "                print(f\"An error occurred while processing the file {filename}: {e}\")\n",
    "\n",
    "    return sum(last_time_values) / len(last_time_values) if last_time_values else None\n"
   ]
  },
  {
   "cell_type": "code",
   "execution_count": 60,
   "metadata": {},
   "outputs": [
    {
     "data": {
      "text/plain": [
       "(15624.7, 11676.2)"
      ]
     },
     "execution_count": 60,
     "metadata": {},
     "output_type": "execute_result"
    }
   ],
   "source": [
    "average_of_last_time_values(\"logs/optimization_ds1_exp1\"), average_of_last_time_values(\"logs/optimization_ds2_exp1\")"
   ]
  },
  {
   "cell_type": "code",
   "execution_count": 61,
   "metadata": {},
   "outputs": [
    {
     "data": {
      "text/plain": [
       "(12175.4, 9517.4)"
      ]
     },
     "execution_count": 61,
     "metadata": {},
     "output_type": "execute_result"
    }
   ],
   "source": [
    "average_of_last_time_values(\"logs/optimization_ds1_exp2\"), average_of_last_time_values(\"logs/optimization_ds2_exp2\")"
   ]
  },
  {
   "cell_type": "code",
   "execution_count": 62,
   "metadata": {},
   "outputs": [
    {
     "data": {
      "text/plain": [
       "(15411.4, 14644.7)"
      ]
     },
     "execution_count": 62,
     "metadata": {},
     "output_type": "execute_result"
    }
   ],
   "source": [
    "average_of_last_time_values(\"logs/optimization_ds1_exp3\"), average_of_last_time_values(\"logs/optimization_ds2_exp3\")"
   ]
  },
  {
   "cell_type": "code",
   "execution_count": null,
   "metadata": {},
   "outputs": [],
   "source": []
  }
 ],
 "metadata": {
  "kernelspec": {
   "display_name": "Python 3 (ipykernel)",
   "language": "python",
   "name": "python3"
  },
  "language_info": {
   "codemirror_mode": {
    "name": "ipython",
    "version": 3
   },
   "file_extension": ".py",
   "mimetype": "text/x-python",
   "name": "python",
   "nbconvert_exporter": "python",
   "pygments_lexer": "ipython3",
   "version": "3.9.16"
  }
 },
 "nbformat": 4,
 "nbformat_minor": 1
}
